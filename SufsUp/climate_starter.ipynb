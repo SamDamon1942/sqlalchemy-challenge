{
 "cells": [
  {
   "cell_type": "code",
   "execution_count": 1,
   "metadata": {},
   "outputs": [],
   "source": [
    "#*****************************\n",
    "#** Import the dependencies **\n",
    "#*****************************\n",
    "\n",
    "%matplotlib inline\n",
    "from matplotlib import style\n",
    "style.use('fivethirtyeight')\n",
    "import matplotlib.pyplot as plt\n"
   ]
  },
  {
   "cell_type": "code",
   "execution_count": 2,
   "metadata": {},
   "outputs": [],
   "source": [
    "#************************\n",
    "#** Imports, continued **\n",
    "#************************\n",
    "\n",
    "import numpy as np\n",
    "import pandas as pd\n",
    "import datetime as dt\n",
    "#delete the below\n",
    "from datetime import datetime"
   ]
  },
  {
   "cell_type": "markdown",
   "metadata": {},
   "source": [
    "# Reflect Tables into SQLAlchemy ORM"
   ]
  },
  {
   "cell_type": "code",
   "execution_count": 3,
   "metadata": {},
   "outputs": [],
   "source": [
    "# Python SQL toolkit and Object Relational Mapper\n",
    "import sqlalchemy\n",
    "from sqlalchemy.ext.automap import automap_base\n",
    "from sqlalchemy.orm import Session\n",
    "from sqlalchemy import create_engine, func"
   ]
  },
  {
   "cell_type": "code",
   "execution_count": 4,
   "metadata": {},
   "outputs": [],
   "source": [
    "# create engine to hawaii.sqlite\n",
    "engine = create_engine(\"sqlite:///../Resources/hawaii.sqlite\")"
   ]
  },
  {
   "cell_type": "code",
   "execution_count": 5,
   "metadata": {},
   "outputs": [],
   "source": [
    "# reflect an existing database into a new model\n",
    "Base = automap_base()\n",
    "# reflect the tables\n",
    "Base.prepare(autoload_with=engine)"
   ]
  },
  {
   "cell_type": "code",
   "execution_count": 26,
   "metadata": {},
   "outputs": [
    {
     "data": {
      "text/plain": [
       "['measurement', 'station']"
      ]
     },
     "execution_count": 26,
     "metadata": {},
     "output_type": "execute_result"
    }
   ],
   "source": [
    "#*************************************************\n",
    "#** View all of the classes that automap found  **\n",
    "#*************************************************\n",
    "\n",
    "Base.classes.keys()"
   ]
  },
  {
   "cell_type": "code",
   "execution_count": 8,
   "metadata": {},
   "outputs": [],
   "source": [
    "#*********************************\n",
    "# Save references to each table **\n",
    "#*********************************\n",
    "\n",
    "Measurement = Base.classes.measurement\n",
    "Station = Base.classes.station"
   ]
  },
  {
   "cell_type": "code",
   "execution_count": 27,
   "metadata": {},
   "outputs": [],
   "source": [
    "#****************************************************\n",
    "#** Create our session (link) from Python to the DB**\n",
    "#****************************************************\n",
    "session = Session(engine)"
   ]
  },
  {
   "cell_type": "markdown",
   "metadata": {},
   "source": [
    "# Exploratory Precipitation Analysis"
   ]
  },
  {
   "cell_type": "code",
   "execution_count": 10,
   "metadata": {},
   "outputs": [
    {
     "data": {
      "text/plain": [
       "('2017-08-23',)"
      ]
     },
     "execution_count": 10,
     "metadata": {},
     "output_type": "execute_result"
    }
   ],
   "source": [
    "#***********************************************\n",
    "#**Find the most recent date in the data set. **\n",
    "#***********************************************\n",
    "\n",
    "measurement_date = session.query(Measurement.date).order_by(Measurement.date.desc()).first()\n",
    "measurement_date  #verify the result and ensure it is correct!"
   ]
  },
  {
   "cell_type": "code",
   "execution_count": 28,
   "metadata": {},
   "outputs": [],
   "source": [
    "#*************************************************************\n",
    "#**In this section, parse out the day, month, and year from **\n",
    "#** the list obtained in the previous step. This obviates   **\n",
    "#** the need to pass the date as a variable.                **\n",
    "#*************************************************************\n",
    "\n",
    "#****************************************************************\n",
    "#** Note: the result from the step above is a tuple; therefore,**\n",
    "#** obtain the first element in that touple.                   **\n",
    "#****************************************************************\n",
    "\n",
    "date_string = measurement_date[0]\n",
    "\n",
    "# Convert the date string to a datetime object\n",
    "date_object = datetime.strptime(date_string, '%Y-%m-%d')\n",
    "\n",
    "# Extract the month, day, and year from the datetime object\n",
    "my_month = int(date_object.strftime('%m'))\n",
    "my_day = int(date_object.strftime('%d'))\n",
    "my_year = int(date_object.strftime('%Y'))\n",
    "\n",
    "#*************************************************************\n",
    "#** use the code below to ensure I get the expected results.**\n",
    "#*************************************************************\n",
    "\n",
    "#print(\"Month:\", my_month)\n",
    "#print(\"Day:\", my_day)\n",
    "#print(\"Year:\", my_year)"
   ]
  },
  {
   "cell_type": "code",
   "execution_count": 29,
   "metadata": {},
   "outputs": [],
   "source": [
    "#*******************************************************************\n",
    "#**Design a query to retrieve the last 12 months of precipitation **\n",
    "#** data and plot the results. Start from the most recent data    ** \n",
    "#** point in the database.                                        ** \n",
    "#*******************************************************************\n",
    "\n",
    "# first, calculate the date one year from the last date in data set.\n",
    "recent_date = dt.date(my_year,my_month,my_day)\n",
    "#print(f\"Most recent date: {recent_date}\")    #verify the expected results were obtained\n",
    "\n",
    "year_ago = dt.date(my_year,my_month,my_day) - dt.timedelta(days=366)\n",
    "#print(f\"One year prior: {year_ago}\")         #verify the expected results were obtained"
   ]
  },
  {
   "cell_type": "code",
   "execution_count": 30,
   "metadata": {},
   "outputs": [],
   "source": [
    "# second, perform a query to retrieve the data and precipitation scores.\n",
    "# use the results from the variables in the previos step.\n",
    "\n",
    "results=session.query(Measurement.date, Measurement.prcp).filter(Measurement.date >year_ago).filter(Measurement.date <= recent_date).all()"
   ]
  },
  {
   "cell_type": "code",
   "execution_count": 31,
   "metadata": {},
   "outputs": [
    {
     "data": {
      "text/html": [
       "<div>\n",
       "<style scoped>\n",
       "    .dataframe tbody tr th:only-of-type {\n",
       "        vertical-align: middle;\n",
       "    }\n",
       "\n",
       "    .dataframe tbody tr th {\n",
       "        vertical-align: top;\n",
       "    }\n",
       "\n",
       "    .dataframe thead th {\n",
       "        text-align: right;\n",
       "    }\n",
       "</style>\n",
       "<table border=\"1\" class=\"dataframe\">\n",
       "  <thead>\n",
       "    <tr style=\"text-align: right;\">\n",
       "      <th></th>\n",
       "      <th>Measurement Date</th>\n",
       "      <th>Precipitation</th>\n",
       "    </tr>\n",
       "  </thead>\n",
       "  <tbody>\n",
       "    <tr>\n",
       "      <th>0</th>\n",
       "      <td>2016-08-23</td>\n",
       "      <td>0.00</td>\n",
       "    </tr>\n",
       "    <tr>\n",
       "      <th>1</th>\n",
       "      <td>2016-08-23</td>\n",
       "      <td>NaN</td>\n",
       "    </tr>\n",
       "    <tr>\n",
       "      <th>2</th>\n",
       "      <td>2016-08-23</td>\n",
       "      <td>1.79</td>\n",
       "    </tr>\n",
       "    <tr>\n",
       "      <th>3</th>\n",
       "      <td>2016-08-23</td>\n",
       "      <td>0.05</td>\n",
       "    </tr>\n",
       "    <tr>\n",
       "      <th>4</th>\n",
       "      <td>2016-08-23</td>\n",
       "      <td>0.15</td>\n",
       "    </tr>\n",
       "  </tbody>\n",
       "</table>\n",
       "</div>"
      ],
      "text/plain": [
       "  Measurement Date  Precipitation\n",
       "0       2016-08-23           0.00\n",
       "1       2016-08-23            NaN\n",
       "2       2016-08-23           1.79\n",
       "3       2016-08-23           0.05\n",
       "4       2016-08-23           0.15"
      ]
     },
     "execution_count": 31,
     "metadata": {},
     "output_type": "execute_result"
    }
   ],
   "source": [
    "# Save the query results as a Pandas DataFrame. Explicitly set the column names\n",
    "column_names = [\"Measurement Date\",\"Precipitation\"]\n",
    "precipitation_df = pd.DataFrame(results, columns = column_names)\n",
    "precipitation_df=precipitation_df.sort_values(by=\"Measurement Date\").reset_index(drop=True)\n",
    "precipitation_df.head()\n",
    "\n",
    "#Note: I did not drop null values. This doesn't impact the summary statistics or the charts."
   ]
  },
  {
   "cell_type": "code",
   "execution_count": 33,
   "metadata": {},
   "outputs": [
    {
     "data": {
      "text/plain": [
       "<Figure size 800x600 with 0 Axes>"
      ]
     },
     "metadata": {},
     "output_type": "display_data"
    },
    {
     "data": {
      "image/png": "[encoded data removed]",
      "text/plain": [
       "<Figure size 640x480 with 1 Axes>"
      ]
     },
     "metadata": {},
     "output_type": "display_data"
    }
   ],
   "source": [
    "# Use Pandas Plotting with Matplotlib to plot the data\n",
    "plt.figure(figsize=(8, 6))  # Set the figure size\n",
    "precipitation_df.plot(x='Measurement Date', y= 'Precipitation')\n",
    "plt.xlabel('Date') #set the label for the x-axis\n",
    "plt.ylabel('Inches') #set the label for the y-axis\n",
    "plt.xticks(rotation=90) \n",
    "plt.show()  #display the chart"
   ]
  },
  {
   "cell_type": "code",
   "execution_count": 34,
   "metadata": {},
   "outputs": [
    {
     "name": "stdout",
     "output_type": "stream",
     "text": [
      "count    2021.000000\n",
      "mean        0.177279\n",
      "std         0.461190\n",
      "min         0.000000\n",
      "25%         0.000000\n",
      "50%         0.020000\n",
      "75%         0.130000\n",
      "max         6.700000\n",
      "Name: Precipitation, dtype: float64\n"
     ]
    }
   ],
   "source": [
    "#****************************************************************************\n",
    "# Use Pandas to calculate the summary statistics for the precipitation data**\n",
    "#****************************************************************************\n",
    "summary_stats = precipitation_df['Precipitation'].describe()\n",
    "print(summary_stats)"
   ]
  },
  {
   "cell_type": "markdown",
   "metadata": {},
   "source": [
    "# Exploratory Station Analysis"
   ]
  },
  {
   "cell_type": "code",
   "execution_count": 17,
   "metadata": {},
   "outputs": [
    {
     "name": "stdout",
     "output_type": "stream",
     "text": [
      "9\n"
     ]
    }
   ],
   "source": [
    "#*******************************************\n",
    "#** Design a query to calculate the total **\n",
    "#** number of stations in the dataset.    **\n",
    "#*******************************************\n",
    "\n",
    "total_count = session.query(Measurement.station).distinct().count()\n",
    "print(total_count)"
   ]
  },
  {
   "cell_type": "code",
   "execution_count": 35,
   "metadata": {},
   "outputs": [
    {
     "data": {
      "text/plain": [
       "[('USC00519281', 2772),\n",
       " ('USC00519397', 2724),\n",
       " ('USC00513117', 2709),\n",
       " ('USC00519523', 2669),\n",
       " ('USC00516128', 2612),\n",
       " ('USC00514830', 2202),\n",
       " ('USC00511918', 1979),\n",
       " ('USC00517948', 1372),\n",
       " ('USC00518838', 511)]"
      ]
     },
     "execution_count": 35,
     "metadata": {},
     "output_type": "execute_result"
    }
   ],
   "source": [
    "#******************************************************\n",
    "# Design a query to find the most active stations,   **\n",
    "#**(i.e. which stations have the most rows?). List   **\n",
    "#**the stations and their counts in descending order.**\n",
    "#******************************************************\n",
    "active_stations= session.query(Measurement.station,func.count(Measurement.tobs).label('count')).\\\n",
    "                               group_by(Measurement.station).\\\n",
    "                               order_by(func.count(Measurement.tobs).desc()).all()  \n",
    "active_stations"
   ]
  },
  {
   "cell_type": "code",
   "execution_count": 36,
   "metadata": {},
   "outputs": [
    {
     "name": "stdout",
     "output_type": "stream",
     "text": [
      "(54.0, 85.0, 71.66378066378067)\n"
     ]
    }
   ],
   "source": [
    "#****************************************************************\n",
    "#** We are to design a query to get the previous 12-months' of **\n",
    "#** tempberature observations (TOBS) data that filters by the  **\n",
    "#** station tht has the greatest number of observations.       **\n",
    "#****************************************************************\n",
    "\n",
    "most_active_station= session.query(Measurement.station,func.count(Measurement.tobs).label('count')).\\\n",
    "                                group_by(Measurement.station).\\\n",
    "                                order_by(func.count(Measurement.tobs).desc()).first()  \n",
    "\n",
    "#save the most active station as a variable, and check it against the results from the preceding query.\n",
    "station_id = most_active_station.station\n",
    "station_id\n",
    "\n",
    "#find the metrics of interest\n",
    "most_active_statistics = session.query(func.min(Measurement.tobs).label('min_value'),\n",
    "                                        func.max(Measurement.tobs).label('max_value'),\n",
    "                                        func.avg(Measurement.tobs).label('avg_value'))\\\n",
    "                                 .filter(Measurement.station == station_id)\\\n",
    "                                 .first()\n",
    "#print the results\n",
    "print(most_active_statistics)"
   ]
  },
  {
   "cell_type": "code",
   "execution_count": 37,
   "metadata": {},
   "outputs": [
    {
     "data": {
      "image/png": "[encoded data removed]",
      "text/plain": [
       "<Figure size 640x480 with 1 Axes>"
      ]
     },
     "metadata": {},
     "output_type": "display_data"
    }
   ],
   "source": [
    "#*************************************************\n",
    "#** From the results above, retrieve the last   **\n",
    "#** 12 months of TOBS for the most active       **\n",
    "#** station and plot the results as a histogram.**\n",
    "#*************************************************\n",
    "\n",
    "temperatures=session.query(Measurement.date, Measurement.tobs).filter(Measurement.date >year_ago).filter(Measurement.date <= recent_date).filter(Measurement.station == station_id).all()\n",
    "\n",
    "#Save the query results as a Pandas DataFrame. Explicitly set the column names\n",
    "column_names = [\"Measurement Date\",\"Temperature\"]\n",
    "temps_df = pd.DataFrame(temperatures, columns = column_names)\n",
    "temps_df.head()\n",
    "\n",
    "plt.hist(temps_df['Temperature'], bins=12, color='skyblue', edgecolor='black')\n",
    "plt.xlabel('Temperature (F)')\n",
    "plt.ylabel('Frequency')\n",
    "plt.title('Temperature Observation Data for the Last 12 Months')\n",
    "plt.grid(axis='y', alpha=0.75)\n",
    "plt.show()\n"
   ]
  },
  {
   "cell_type": "markdown",
   "metadata": {},
   "source": [
    "# Close Session"
   ]
  },
  {
   "cell_type": "code",
   "execution_count": 22,
   "metadata": {},
   "outputs": [],
   "source": [
    "# Close Session\n",
    "session.close()"
   ]
  },
  {
   "cell_type": "code",
   "execution_count": null,
   "metadata": {},
   "outputs": [],
   "source": []
  }
 ],
 "metadata": {
  "anaconda-cloud": {},
  "kernel_info": {
   "name": "python3"
  },
  "kernelspec": {
   "display_name": "dev",
   "language": "python",
   "name": "dev"
  },
  "language_info": {
   "codemirror_mode": {
    "name": "ipython",
    "version": 3
   },
   "file_extension": ".py",
   "mimetype": "text/x-python",
   "name": "python",
   "nbconvert_exporter": "python",
   "pygments_lexer": "ipython3",
   "version": "3.11.5"
  },
  "nteract": {
   "version": "0.12.3"
  },
  "varInspector": {
   "cols": {
    "lenName": 16,
    "lenType": 16,
    "lenVar": 40
   },
   "kernels_config": {
    "python": {
     "delete_cmd_postfix": "",
     "delete_cmd_prefix": "del ",
     "library": "var_list.py",
     "varRefreshCmd": "print(var_dic_list())"
    },
    "r": {
     "delete_cmd_postfix": ") ",
     "delete_cmd_prefix": "rm(",
     "library": "var_list.r",
     "varRefreshCmd": "cat(var_dic_list()) "
    }
   },
   "types_to_exclude": [
    "module",
    "function",
    "builtin_function_or_method",
    "instance",
    "_Feature"
   ],
   "window_display": false
  }
 },
 "nbformat": 4,
 "nbformat_minor": 4
}
